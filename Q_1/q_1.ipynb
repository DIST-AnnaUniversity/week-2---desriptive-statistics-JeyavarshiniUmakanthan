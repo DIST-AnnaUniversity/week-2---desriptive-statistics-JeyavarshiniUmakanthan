{
  "nbformat": 4,
  "nbformat_minor": 0,
  "metadata": {
    "colab": {
      "provenance": []
    },
    "kernelspec": {
      "name": "python3",
      "display_name": "Python 3"
    },
    "language_info": {
      "name": "python"
    }
  },
  "cells": [
    {
      "cell_type": "markdown",
      "source": [
        "I have gone through the given topics in Descriptive statistics from https://courses.lumenlearning.com/introstats1/"
      ],
      "metadata": {
        "id": "3ltdLPS-4qUo"
      }
    }
  ]
}