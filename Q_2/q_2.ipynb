{
  "nbformat": 4,
  "nbformat_minor": 0,
  "metadata": {
    "colab": {
      "provenance": [],
      "collapsed_sections": []
    },
    "kernelspec": {
      "name": "python3",
      "display_name": "Python 3"
    },
    "language_info": {
      "name": "python"
    }
  },
  "cells": [
    {
      "cell_type": "code",
      "execution_count": 2,
      "metadata": {
        "colab": {
          "base_uri": "https://localhost:8080/"
        },
        "id": "JWbECpz0AldH",
        "outputId": "f06d0cb2-5f94-40ee-c566-6a3b8254b037"
      },
      "outputs": [
        {
          "output_type": "stream",
          "name": "stdout",
          "text": [
            "Looking in indexes: https://pypi.org/simple, https://us-python.pkg.dev/colab-wheels/public/simple/\n",
            "Collecting stemgraphic\n",
            "  Downloading stemgraphic-0.9.1-py3-none-any.whl (61 kB)\n",
            "\u001b[K     |████████████████████████████████| 61 kB 414 kB/s \n",
            "\u001b[?25hCollecting docopt\n",
            "  Downloading docopt-0.6.2.tar.gz (25 kB)\n",
            "Requirement already satisfied: pandas in /usr/local/lib/python3.7/dist-packages (from stemgraphic) (1.3.5)\n",
            "Requirement already satisfied: matplotlib in /usr/local/lib/python3.7/dist-packages (from stemgraphic) (3.2.2)\n",
            "Requirement already satisfied: seaborn in /usr/local/lib/python3.7/dist-packages (from stemgraphic) (0.11.2)\n",
            "Requirement already satisfied: pyparsing!=2.0.4,!=2.1.2,!=2.1.6,>=2.0.1 in /usr/local/lib/python3.7/dist-packages (from matplotlib->stemgraphic) (3.0.9)\n",
            "Requirement already satisfied: cycler>=0.10 in /usr/local/lib/python3.7/dist-packages (from matplotlib->stemgraphic) (0.11.0)\n",
            "Requirement already satisfied: python-dateutil>=2.1 in /usr/local/lib/python3.7/dist-packages (from matplotlib->stemgraphic) (2.8.2)\n",
            "Requirement already satisfied: kiwisolver>=1.0.1 in /usr/local/lib/python3.7/dist-packages (from matplotlib->stemgraphic) (1.4.4)\n",
            "Requirement already satisfied: numpy>=1.11 in /usr/local/lib/python3.7/dist-packages (from matplotlib->stemgraphic) (1.21.6)\n",
            "Requirement already satisfied: typing-extensions in /usr/local/lib/python3.7/dist-packages (from kiwisolver>=1.0.1->matplotlib->stemgraphic) (4.1.1)\n",
            "Requirement already satisfied: six>=1.5 in /usr/local/lib/python3.7/dist-packages (from python-dateutil>=2.1->matplotlib->stemgraphic) (1.15.0)\n",
            "Requirement already satisfied: pytz>=2017.3 in /usr/local/lib/python3.7/dist-packages (from pandas->stemgraphic) (2022.5)\n",
            "Requirement already satisfied: scipy>=1.0 in /usr/local/lib/python3.7/dist-packages (from seaborn->stemgraphic) (1.7.3)\n",
            "Building wheels for collected packages: docopt\n",
            "  Building wheel for docopt (setup.py) ... \u001b[?25l\u001b[?25hdone\n",
            "  Created wheel for docopt: filename=docopt-0.6.2-py2.py3-none-any.whl size=13723 sha256=dba906e57c87c6c7be791d5d9d0deee66a61b01563537e651b714091e48949a9\n",
            "  Stored in directory: /root/.cache/pip/wheels/72/b0/3f/1d95f96ff986c7dfffe46ce2be4062f38ebd04b506c77c81b9\n",
            "Successfully built docopt\n",
            "Installing collected packages: docopt, stemgraphic\n",
            "Successfully installed docopt-0.6.2 stemgraphic-0.9.1\n"
          ]
        }
      ],
      "source": [
        "import sys\n",
        "!{sys.executable} -m pip install stemgraphic"
      ]
    },
    {
      "cell_type": "code",
      "source": [
        "import stemgraphic\n",
        "import matplotlib.pyplot as plt\n",
        "import numpy as np\n",
        "from scipy import stats as st"
      ],
      "metadata": {
        "id": "qtP6EpVxAqZu"
      },
      "execution_count": 8,
      "outputs": []
    },
    {
      "cell_type": "markdown",
      "source": [
        "Q 1) For each of the following data sets, create a stem plot and identify any outliers.\n",
        "\n",
        "1.The miles per gallon rating for 30 cars are shown below (lowest to highest.\n",
        "19,19,19,20,21,21,25,25,25,26,26,28,29,31,31,32,32,33,34,35,36,37,37,38,38,38,38,41,43,43"
      ],
      "metadata": {
        "id": "TeC2L6HUjbTL"
      }
    },
    {
      "cell_type": "code",
      "source": [
        "x=[19,19,19,20,21,21,25,25,25,26,26,28,29,31,31,32,32,33,34,35,36,37,37,38,38,38,38,41,43,43]"
      ],
      "metadata": {
        "id": "vWT1GwLGBodX"
      },
      "execution_count": 4,
      "outputs": []
    },
    {
      "cell_type": "code",
      "source": [
        "stemgraphic.stem_graphic(x, scale = 10)"
      ],
      "metadata": {
        "colab": {
          "base_uri": "https://localhost:8080/",
          "height": 186
        },
        "id": "PR0lANZYBpxV",
        "outputId": "8d729243-06e5-4253-a7a6-5cacf4fdd16d"
      },
      "execution_count": 5,
      "outputs": [
        {
          "output_type": "execute_result",
          "data": {
            "text/plain": [
              "(<Figure size 540x126 with 1 Axes>,\n",
              " <matplotlib.axes._axes.Axes at 0x7fd45e1fcb10>)"
            ]
          },
          "metadata": {},
          "execution_count": 5
        },
        {
          "output_type": "display_data",
          "data": {
            "text/plain": [
              "<Figure size 540x126 with 1 Axes>"
            ],
            "image/png": "[encoded data removed]"
          },
          "metadata": {
            "needs_background": "light"
          }
        }
      ]
    },
    {
      "cell_type": "code",
      "source": [
        "stem=[1,1,1,2,2,2,2,2,2,2,2,2,2,3,3,3,3,3,3,3,3,3,3,3,3,3,3,4,4,4]\n",
        "plt.stem(stem,x,use_line_collection = True)\n",
        "plt.show()"
      ],
      "metadata": {
        "colab": {
          "base_uri": "https://localhost:8080/",
          "height": 265
        },
        "id": "-wlPh6qZkDhE",
        "outputId": "0a8b6402-27ce-4891-a975-6f305732b1cf"
      },
      "execution_count": 9,
      "outputs": [
        {
          "output_type": "display_data",
          "data": {
            "text/plain": [
              "<Figure size 432x288 with 1 Axes>"
            ],
            "image/png": "[encoded data removed]"
          },
          "metadata": {
            "needs_background": "light"
          }
        }
      ]
    },
    {
      "cell_type": "code",
      "source": [
        "plt.boxplot(x)\n",
        "plt.show()"
      ],
      "metadata": {
        "colab": {
          "base_uri": "https://localhost:8080/",
          "height": 265
        },
        "id": "NnukNoAukVfF",
        "outputId": "f0dee1f8-3a71-4ff5-b627-7d0b521c945b"
      },
      "execution_count": 10,
      "outputs": [
        {
          "output_type": "display_data",
          "data": {
            "text/plain": [
              "<Figure size 432x288 with 1 Axes>"
            ],
            "image/png": "[encoded data removed]"
          },
          "metadata": {
            "needs_background": "light"
          }
        }
      ]
    },
    {
      "cell_type": "code",
      "source": [
        "q1, q3= np.percentile(x,[25,75])\n",
        "iqr = q3 - q1\n",
        "lower_bound = q1 -(1.5 * iqr) \n",
        "upper_bound = q3 +(1.5 * iqr) \n",
        "\n",
        "out = []\n",
        "for i in x:\n",
        "  if i < lower_bound or i > upper_bound:\n",
        "    out.append(i)"
      ],
      "metadata": {
        "id": "szHkXq5fklDc"
      },
      "execution_count": 13,
      "outputs": []
    },
    {
      "cell_type": "code",
      "source": [
        "lower_bound, upper_bound, out"
      ],
      "metadata": {
        "colab": {
          "base_uri": "https://localhost:8080/"
        },
        "id": "-ccX5Kubk8R4",
        "outputId": "de02d414-adb2-4d61-fddc-d6b377622cf2"
      },
      "execution_count": 14,
      "outputs": [
        {
          "output_type": "execute_result",
          "data": {
            "text/plain": [
              "(7.0, 55.0, [])"
            ]
          },
          "metadata": {},
          "execution_count": 14
        }
      ]
    },
    {
      "cell_type": "markdown",
      "source": [
        "There is no outlier in the given data."
      ],
      "metadata": {
        "id": "ek7p-MvnlF0p"
      }
    },
    {
      "cell_type": "markdown",
      "source": [
        "Q 12)Student grades on a chemistry exam were: 77,78,76,81,86,51,79,82,84,99\n",
        "\n",
        "1.Construct a stem-and-leaf plot of the data.\n",
        "\n",
        "2.Are there any potential outliers? If so, which scores are they? Why do you consider them outliers?1."
      ],
      "metadata": {
        "id": "EV5-Dw31m9x2"
      }
    },
    {
      "cell_type": "code",
      "source": [
        "chemgrades=[77,78,76,81,86,51,79,82,84,99]"
      ],
      "metadata": {
        "id": "a3Ek0XTLCxPO"
      },
      "execution_count": 6,
      "outputs": []
    },
    {
      "cell_type": "code",
      "source": [
        "stemgraphic.stem_graphic(chemgrades,scale=10)"
      ],
      "metadata": {
        "colab": {
          "base_uri": "https://localhost:8080/",
          "height": 196
        },
        "id": "5XeSY_2HDZ6k",
        "outputId": "479734d1-9cf2-4fa1-eb92-886db86e1ea2"
      },
      "execution_count": 7,
      "outputs": [
        {
          "output_type": "execute_result",
          "data": {
            "text/plain": [
              "(<Figure size 540x144 with 1 Axes>,\n",
              " <matplotlib.axes._axes.Axes at 0x7fd4441db510>)"
            ]
          },
          "metadata": {},
          "execution_count": 7
        },
        {
          "output_type": "display_data",
          "data": {
            "text/plain": [
              "<Figure size 540x144 with 1 Axes>"
            ],
            "image/png": "[encoded data removed]"
          },
          "metadata": {
            "needs_background": "light"
          }
        }
      ]
    },
    {
      "cell_type": "code",
      "source": [
        "st=[5,7,7,7,7,8,8,8,8,9]\n",
        "plt.stem(st,chemgrades)\n",
        "plt.show()"
      ],
      "metadata": {
        "colab": {
          "base_uri": "https://localhost:8080/",
          "height": 354
        },
        "id": "57z3b0TSlngQ",
        "outputId": "3792b607-cfeb-45c5-dfeb-34a8ecbd1c2a"
      },
      "execution_count": 16,
      "outputs": [
        {
          "output_type": "stream",
          "name": "stderr",
          "text": [
            "/usr/local/lib/python3.7/dist-packages/ipykernel_launcher.py:2: UserWarning:\n",
            "\n",
            "In Matplotlib 3.3 individual lines on a stem plot will be added as a LineCollection instead of individual lines. This significantly improves the performance of a stem plot. To remove this warning and switch to the new behaviour, set the \"use_line_collection\" keyword argument to True.\n",
            "\n"
          ]
        },
        {
          "output_type": "display_data",
          "data": {
            "text/plain": [
              "<Figure size 432x288 with 1 Axes>"
            ],
            "image/png": "[encoded data removed]"
          },
          "metadata": {
            "needs_background": "light"
          }
        }
      ]
    },
    {
      "cell_type": "code",
      "source": [
        "q1, q3= np.percentile(chemgrades,[25,75])\n",
        "iqr = q3 - q1\n",
        "lower_bound = q1 -(1.5 * iqr) \n",
        "upper_bound = q3 +(1.5 * iqr) \n",
        "\n",
        "out = []\n",
        "for i in chemgrades:\n",
        "  if i < lower_bound or i > upper_bound:\n",
        "    out.append(i)\n"
      ],
      "metadata": {
        "id": "kYFbanS8mj1P"
      },
      "execution_count": 18,
      "outputs": []
    },
    {
      "cell_type": "code",
      "source": [
        "lower_bound, upper_bound, out"
      ],
      "metadata": {
        "colab": {
          "base_uri": "https://localhost:8080/"
        },
        "id": "Y63cZu1umr-u",
        "outputId": "4fadf41d-16d7-4d6c-e27a-a3b3ae328eb5"
      },
      "execution_count": 19,
      "outputs": [
        {
          "output_type": "execute_result",
          "data": {
            "text/plain": [
              "(67.875, 92.875, [51, 99])"
            ]
          },
          "metadata": {},
          "execution_count": 19
        }
      ]
    },
    {
      "cell_type": "markdown",
      "source": [
        "Yes,there is an outlier in the given dataset.\n",
        "\n",
        "Outlier score is 51.\n",
        "\n",
        "Because all the scores are greater than the 75."
      ],
      "metadata": {
        "id": "bvkJ4TVKmywN"
      }
    },
    {
      "cell_type": "markdown",
      "source": [
        " Q 49)Twenty-five randomly selected students were asked the number of movies they watched the previous week. The results are as follows:\n",
        "\n",
        "of movies---------------------Frequency\n",
        "\n",
        "      0------------------------5\n",
        "\n",
        "      1------------------------9\n",
        "\n",
        "      2------------------------6\n",
        "\n",
        "      3------------------------4\n",
        "\n",
        "      4------------------------1\n",
        "\n",
        "Construct a box plot of the data."
      ],
      "metadata": {
        "id": "knXFmIMbntqy"
      }
    },
    {
      "cell_type": "code",
      "source": [
        "data=[0,0,0,0,0,1,1,1,1,1,1,1,1,1,2,2,2,2,2,2,3,3,3,3,4]\n",
        "plt.boxplot(data)\n",
        "plt.show()"
      ],
      "metadata": {
        "colab": {
          "base_uri": "https://localhost:8080/",
          "height": 265
        },
        "id": "b9kv7gNyofil",
        "outputId": "ec85cc5c-02ac-4579-e628-28ed3e8d62cb"
      },
      "execution_count": 20,
      "outputs": [
        {
          "output_type": "display_data",
          "data": {
            "text/plain": [
              "<Figure size 432x288 with 1 Axes>"
            ],
            "image/png": "[encoded data removed]"
          },
          "metadata": {
            "needs_background": "light"
          }
        }
      ]
    },
    {
      "cell_type": "markdown",
      "source": [
        "Use the following information to answer the next three exercises: We are interested in the number of years students in a particular elementary statistics class have lived in California. The information in the following table is from the entire section.\n",
        "\n",
        "Number of years-----Frequency\n",
        "\n",
        "           7----------------1\n",
        "           14---------------3\n",
        "           15---------------1\n",
        "           18---------------1\n",
        "           19---------------4\n",
        "           20---------------3\n",
        "           22---------------1\n",
        "           23---------------1\n",
        "           26---------------1\n",
        "           40---------------2\n",
        "           42---------------2\n",
        "\n",
        "                   Total = 20\n",
        "\n",
        "  Q 61) What is the IQR?\n",
        "\n",
        "  1. 8\n",
        "  2. 11\n",
        "  3. 15\n",
        "  4. 35\n"
      ],
      "metadata": {
        "id": "1ezirx_mo_JG"
      }
    },
    {
      "cell_type": "code",
      "source": [
        "data1=np.array([7,14,14,14,15,18,19,19,19,19,20,20,20,22,23,26,40,40,42,42])\n",
        "q1 = np.percentile(data1,25,interpolation='midpoint')\n",
        "q3 = np.percentile(data1,75,interpolation='midpoint')\n",
        "iqr = q3-q1\n",
        "\n",
        "\n",
        "print('IQR is ',iqr)"
      ],
      "metadata": {
        "colab": {
          "base_uri": "https://localhost:8080/"
        },
        "id": "4oJtwi_Hqs8T",
        "outputId": "6c1b6d9d-63cd-472b-d2c3-15cea0eac627"
      },
      "execution_count": 24,
      "outputs": [
        {
          "output_type": "stream",
          "name": "stdout",
          "text": [
            "IQR is  8.0\n"
          ]
        }
      ]
    },
    {
      "cell_type": "markdown",
      "source": [
        "The IQR is (1) 8."
      ],
      "metadata": {
        "id": "SFRhJPnVrkH7"
      }
    },
    {
      "cell_type": "markdown",
      "source": [
        "62) What is the mode?\n",
        "1. 19\n",
        "2. 19.5\n",
        "3. 14 and 20\n",
        "4. 65\n"
      ],
      "metadata": {
        "id": "xvxtS1iSrqp5"
      }
    },
    {
      "cell_type": "code",
      "source": [
        "import matplotlib.pyplot as plt\n",
        "import numpy as np\n",
        "from scipy import stats as st\n",
        "print(st.mode(data1))"
      ],
      "metadata": {
        "colab": {
          "base_uri": "https://localhost:8080/"
        },
        "id": "OWSQuinls0p1",
        "outputId": "333e7744-888f-41f3-aac8-238dfb7ce12e"
      },
      "execution_count": 34,
      "outputs": [
        {
          "output_type": "stream",
          "name": "stdout",
          "text": [
            "ModeResult(mode=array([19]), count=array([4]))\n"
          ]
        }
      ]
    },
    {
      "cell_type": "markdown",
      "source": [
        "The mode of the given data is (1) 19."
      ],
      "metadata": {
        "id": "lMPi4cJ0u6J9"
      }
    },
    {
      "cell_type": "markdown",
      "source": [
        "Q 63) Is this a sample or the entire population?\n",
        "1. sample\n",
        "2. entire population\n",
        "3. neither\n",
        "\n",
        "The given population is (1) sample population."
      ],
      "metadata": {
        "id": "6mBOYzJ8vBGD"
      }
    }
  ]
}